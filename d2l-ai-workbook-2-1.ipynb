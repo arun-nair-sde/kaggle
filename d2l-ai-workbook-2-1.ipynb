{
 "cells": [
  {
   "cell_type": "code",
   "execution_count": 1,
   "id": "6e1eba8a",
   "metadata": {
    "_cell_guid": "b1076dfc-b9ad-4769-8c92-a6c4dae69d19",
    "_uuid": "8f2839f25d086af736a60e9eeb907d3b93b6e0e5",
    "execution": {
     "iopub.execute_input": "2025-02-22T20:49:33.102042Z",
     "iopub.status.busy": "2025-02-22T20:49:33.101610Z",
     "iopub.status.idle": "2025-02-22T20:49:34.239320Z",
     "shell.execute_reply": "2025-02-22T20:49:34.238271Z"
    },
    "papermill": {
     "duration": 1.14829,
     "end_time": "2025-02-22T20:49:34.241231",
     "exception": false,
     "start_time": "2025-02-22T20:49:33.092941",
     "status": "completed"
    },
    "tags": []
   },
   "outputs": [],
   "source": [
    "# This Python 3 environment comes with many helpful analytics libraries installed\n",
    "# It is defined by the kaggle/python Docker image: https://github.com/kaggle/docker-python\n",
    "# For example, here's several helpful packages to load\n",
    "\n",
    "import numpy as np # linear algebra\n",
    "import pandas as pd # data processing, CSV file I/O (e.g. pd.read_csv)\n",
    "\n",
    "# Input data files are available in the read-only \"../input/\" directory\n",
    "# For example, running this (by clicking run or pressing Shift+Enter) will list all files under the input directory\n",
    "\n",
    "import os\n",
    "for dirname, _, filenames in os.walk('/kaggle/input'):\n",
    "    for filename in filenames:\n",
    "        print(os.path.join(dirname, filename))\n",
    "\n",
    "# You can write up to 20GB to the current directory (/kaggle/working/) that gets preserved as output when you create a version using \"Save & Run All\" \n",
    "# You can also write temporary files to /kaggle/temp/, but they won't be saved outside of the current session"
   ]
  },
  {
   "cell_type": "code",
   "execution_count": 2,
   "id": "81697f0d",
   "metadata": {
    "execution": {
     "iopub.execute_input": "2025-02-22T20:49:34.252670Z",
     "iopub.status.busy": "2025-02-22T20:49:34.252169Z",
     "iopub.status.idle": "2025-02-22T20:49:38.883129Z",
     "shell.execute_reply": "2025-02-22T20:49:38.882087Z"
    },
    "papermill": {
     "duration": 4.638772,
     "end_time": "2025-02-22T20:49:38.885144",
     "exception": false,
     "start_time": "2025-02-22T20:49:34.246372",
     "status": "completed"
    },
    "tags": []
   },
   "outputs": [],
   "source": [
    "import torch"
   ]
  },
  {
   "cell_type": "code",
   "execution_count": 3,
   "id": "68ccb020",
   "metadata": {
    "execution": {
     "iopub.execute_input": "2025-02-22T20:49:38.897277Z",
     "iopub.status.busy": "2025-02-22T20:49:38.896702Z",
     "iopub.status.idle": "2025-02-22T20:49:38.957907Z",
     "shell.execute_reply": "2025-02-22T20:49:38.956609Z"
    },
    "papermill": {
     "duration": 0.069528,
     "end_time": "2025-02-22T20:49:38.960029",
     "exception": false,
     "start_time": "2025-02-22T20:49:38.890501",
     "status": "completed"
    },
    "tags": []
   },
   "outputs": [
    {
     "data": {
      "text/plain": [
       "tensor([ 0,  1,  2,  3,  4,  5,  6,  7,  8,  9, 10, 11])"
      ]
     },
     "execution_count": 3,
     "metadata": {},
     "output_type": "execute_result"
    }
   ],
   "source": [
    "x = torch.arange(12)\n",
    "x"
   ]
  },
  {
   "cell_type": "code",
   "execution_count": 4,
   "id": "e52fae77",
   "metadata": {
    "execution": {
     "iopub.execute_input": "2025-02-22T20:49:38.971721Z",
     "iopub.status.busy": "2025-02-22T20:49:38.971354Z",
     "iopub.status.idle": "2025-02-22T20:49:38.977387Z",
     "shell.execute_reply": "2025-02-22T20:49:38.976210Z"
    },
    "papermill": {
     "duration": 0.01425,
     "end_time": "2025-02-22T20:49:38.979413",
     "exception": false,
     "start_time": "2025-02-22T20:49:38.965163",
     "status": "completed"
    },
    "tags": []
   },
   "outputs": [
    {
     "data": {
      "text/plain": [
       "12"
      ]
     },
     "execution_count": 4,
     "metadata": {},
     "output_type": "execute_result"
    }
   ],
   "source": [
    "x.numel()"
   ]
  },
  {
   "cell_type": "code",
   "execution_count": 5,
   "id": "732260f4",
   "metadata": {
    "execution": {
     "iopub.execute_input": "2025-02-22T20:49:38.991402Z",
     "iopub.status.busy": "2025-02-22T20:49:38.990989Z",
     "iopub.status.idle": "2025-02-22T20:49:38.996974Z",
     "shell.execute_reply": "2025-02-22T20:49:38.995860Z"
    },
    "papermill": {
     "duration": 0.014588,
     "end_time": "2025-02-22T20:49:38.999036",
     "exception": false,
     "start_time": "2025-02-22T20:49:38.984448",
     "status": "completed"
    },
    "tags": []
   },
   "outputs": [
    {
     "data": {
      "text/plain": [
       "torch.Size([12])"
      ]
     },
     "execution_count": 5,
     "metadata": {},
     "output_type": "execute_result"
    }
   ],
   "source": [
    "x.shape"
   ]
  },
  {
   "cell_type": "code",
   "execution_count": 6,
   "id": "82004057",
   "metadata": {
    "execution": {
     "iopub.execute_input": "2025-02-22T20:49:39.011131Z",
     "iopub.status.busy": "2025-02-22T20:49:39.010731Z",
     "iopub.status.idle": "2025-02-22T20:49:39.019455Z",
     "shell.execute_reply": "2025-02-22T20:49:39.018253Z"
    },
    "papermill": {
     "duration": 0.016738,
     "end_time": "2025-02-22T20:49:39.021300",
     "exception": false,
     "start_time": "2025-02-22T20:49:39.004562",
     "status": "completed"
    },
    "tags": []
   },
   "outputs": [
    {
     "data": {
      "text/plain": [
       "tensor([[ 0,  1,  2,  3],\n",
       "        [ 4,  5,  6,  7],\n",
       "        [ 8,  9, 10, 11]])"
      ]
     },
     "execution_count": 6,
     "metadata": {},
     "output_type": "execute_result"
    }
   ],
   "source": [
    "X = x.reshape(3, 4)\n",
    "X"
   ]
  },
  {
   "cell_type": "code",
   "execution_count": 7,
   "id": "5fb89cc7",
   "metadata": {
    "execution": {
     "iopub.execute_input": "2025-02-22T20:49:39.033259Z",
     "iopub.status.busy": "2025-02-22T20:49:39.032907Z",
     "iopub.status.idle": "2025-02-22T20:49:39.040934Z",
     "shell.execute_reply": "2025-02-22T20:49:39.039740Z"
    },
    "papermill": {
     "duration": 0.015997,
     "end_time": "2025-02-22T20:49:39.042658",
     "exception": false,
     "start_time": "2025-02-22T20:49:39.026661",
     "status": "completed"
    },
    "tags": []
   },
   "outputs": [
    {
     "data": {
      "text/plain": [
       "tensor([[ 0,  1,  2,  3],\n",
       "        [ 4,  5,  6,  7],\n",
       "        [ 8,  9, 10, 11]])"
      ]
     },
     "execution_count": 7,
     "metadata": {},
     "output_type": "execute_result"
    }
   ],
   "source": [
    "y = torch.arange(12)\n",
    "y.reshape(3,-1) # second argument can be inferred from first as 12/3"
   ]
  },
  {
   "cell_type": "code",
   "execution_count": 8,
   "id": "0cb52803",
   "metadata": {
    "execution": {
     "iopub.execute_input": "2025-02-22T20:49:39.055325Z",
     "iopub.status.busy": "2025-02-22T20:49:39.054787Z",
     "iopub.status.idle": "2025-02-22T20:49:39.062770Z",
     "shell.execute_reply": "2025-02-22T20:49:39.061675Z"
    },
    "papermill": {
     "duration": 0.01625,
     "end_time": "2025-02-22T20:49:39.064471",
     "exception": false,
     "start_time": "2025-02-22T20:49:39.048221",
     "status": "completed"
    },
    "tags": []
   },
   "outputs": [
    {
     "data": {
      "text/plain": [
       "tensor([[ 0,  1,  2,  3],\n",
       "        [ 4,  5,  6,  7],\n",
       "        [ 8,  9, 10, 11]])"
      ]
     },
     "execution_count": 8,
     "metadata": {},
     "output_type": "execute_result"
    }
   ],
   "source": [
    "y = torch.arange(12)\n",
    "y.reshape(-1,4)"
   ]
  },
  {
   "cell_type": "code",
   "execution_count": 9,
   "id": "d9942d98",
   "metadata": {
    "execution": {
     "iopub.execute_input": "2025-02-22T20:49:39.076510Z",
     "iopub.status.busy": "2025-02-22T20:49:39.076194Z",
     "iopub.status.idle": "2025-02-22T20:49:39.137268Z",
     "shell.execute_reply": "2025-02-22T20:49:39.136274Z"
    },
    "papermill": {
     "duration": 0.06956,
     "end_time": "2025-02-22T20:49:39.139548",
     "exception": false,
     "start_time": "2025-02-22T20:49:39.069988",
     "status": "completed"
    },
    "tags": []
   },
   "outputs": [
    {
     "data": {
      "text/plain": [
       "tensor([[[1., 1., 1., 1.],\n",
       "         [1., 1., 1., 1.],\n",
       "         [1., 1., 1., 1.]],\n",
       "\n",
       "        [[1., 1., 1., 1.],\n",
       "         [1., 1., 1., 1.],\n",
       "         [1., 1., 1., 1.]]])"
      ]
     },
     "execution_count": 9,
     "metadata": {},
     "output_type": "execute_result"
    }
   ],
   "source": [
    "torch.ones(2,3,4)"
   ]
  },
  {
   "cell_type": "code",
   "execution_count": 10,
   "id": "462e52f6",
   "metadata": {
    "execution": {
     "iopub.execute_input": "2025-02-22T20:49:39.152306Z",
     "iopub.status.busy": "2025-02-22T20:49:39.151949Z",
     "iopub.status.idle": "2025-02-22T20:49:39.161447Z",
     "shell.execute_reply": "2025-02-22T20:49:39.160084Z"
    },
    "papermill": {
     "duration": 0.017983,
     "end_time": "2025-02-22T20:49:39.163484",
     "exception": false,
     "start_time": "2025-02-22T20:49:39.145501",
     "status": "completed"
    },
    "tags": []
   },
   "outputs": [
    {
     "data": {
      "text/plain": [
       "tensor([[[0., 0., 0., 0.],\n",
       "         [0., 0., 0., 0.],\n",
       "         [0., 0., 0., 0.]],\n",
       "\n",
       "        [[0., 0., 0., 0.],\n",
       "         [0., 0., 0., 0.],\n",
       "         [0., 0., 0., 0.]]])"
      ]
     },
     "execution_count": 10,
     "metadata": {},
     "output_type": "execute_result"
    }
   ],
   "source": [
    "torch.zeros(2,3,4)"
   ]
  },
  {
   "cell_type": "code",
   "execution_count": 11,
   "id": "c0fd97bf",
   "metadata": {
    "execution": {
     "iopub.execute_input": "2025-02-22T20:49:39.176104Z",
     "iopub.status.busy": "2025-02-22T20:49:39.175704Z",
     "iopub.status.idle": "2025-02-22T20:49:39.185387Z",
     "shell.execute_reply": "2025-02-22T20:49:39.184460Z"
    },
    "papermill": {
     "duration": 0.017999,
     "end_time": "2025-02-22T20:49:39.187140",
     "exception": false,
     "start_time": "2025-02-22T20:49:39.169141",
     "status": "completed"
    },
    "tags": []
   },
   "outputs": [
    {
     "data": {
      "text/plain": [
       "tensor([[ 0.7433, -1.5750, -0.6988,  0.6793],\n",
       "        [-0.5405, -1.4745, -0.3137,  0.2861],\n",
       "        [ 0.9445,  0.5806,  1.1881,  2.3407]])"
      ]
     },
     "execution_count": 11,
     "metadata": {},
     "output_type": "execute_result"
    }
   ],
   "source": [
    "torch.randn(3,4) # creates a tensor with elements drawn from\n",
    "                 # a standard Gaussian (normal) distribution with mean 0 and standard deviation 1"
   ]
  },
  {
   "cell_type": "code",
   "execution_count": 12,
   "id": "9ba1ff51",
   "metadata": {
    "execution": {
     "iopub.execute_input": "2025-02-22T20:49:39.200626Z",
     "iopub.status.busy": "2025-02-22T20:49:39.200228Z",
     "iopub.status.idle": "2025-02-22T20:49:39.207251Z",
     "shell.execute_reply": "2025-02-22T20:49:39.206329Z"
    },
    "papermill": {
     "duration": 0.015848,
     "end_time": "2025-02-22T20:49:39.208955",
     "exception": false,
     "start_time": "2025-02-22T20:49:39.193107",
     "status": "completed"
    },
    "tags": []
   },
   "outputs": [
    {
     "data": {
      "text/plain": [
       "tensor([[1, 2, 3],\n",
       "        [4, 5, 6],\n",
       "        [7, 8, 9]])"
      ]
     },
     "execution_count": 12,
     "metadata": {},
     "output_type": "execute_result"
    }
   ],
   "source": [
    "torch.tensor([[1,2,3],[4,5,6],[7,8,9]])"
   ]
  },
  {
   "cell_type": "code",
   "execution_count": 13,
   "id": "5421450b",
   "metadata": {
    "execution": {
     "iopub.execute_input": "2025-02-22T20:49:39.221925Z",
     "iopub.status.busy": "2025-02-22T20:49:39.221567Z",
     "iopub.status.idle": "2025-02-22T20:49:39.234901Z",
     "shell.execute_reply": "2025-02-22T20:49:39.233985Z"
    },
    "papermill": {
     "duration": 0.021644,
     "end_time": "2025-02-22T20:49:39.236747",
     "exception": false,
     "start_time": "2025-02-22T20:49:39.215103",
     "status": "completed"
    },
    "tags": []
   },
   "outputs": [
    {
     "data": {
      "text/plain": [
       "(tensor([ 8,  9, 10, 11]),\n",
       " tensor([[ 4,  5,  6,  7],\n",
       "         [ 8,  9, 10, 11]]))"
      ]
     },
     "execution_count": 13,
     "metadata": {},
     "output_type": "execute_result"
    }
   ],
   "source": [
    "X[-1], X[1:3]"
   ]
  },
  {
   "cell_type": "code",
   "execution_count": 14,
   "id": "611dc072",
   "metadata": {
    "execution": {
     "iopub.execute_input": "2025-02-22T20:49:39.250634Z",
     "iopub.status.busy": "2025-02-22T20:49:39.250270Z",
     "iopub.status.idle": "2025-02-22T20:49:39.258589Z",
     "shell.execute_reply": "2025-02-22T20:49:39.257553Z"
    },
    "papermill": {
     "duration": 0.016933,
     "end_time": "2025-02-22T20:49:39.260292",
     "exception": false,
     "start_time": "2025-02-22T20:49:39.243359",
     "status": "completed"
    },
    "tags": []
   },
   "outputs": [
    {
     "data": {
      "text/plain": [
       "tensor([[ 0,  1,  2,  3],\n",
       "        [ 4,  5, 17,  7],\n",
       "        [ 8,  9, 10, 11]])"
      ]
     },
     "execution_count": 14,
     "metadata": {},
     "output_type": "execute_result"
    }
   ],
   "source": [
    "X[1,2] = 17\n",
    "X"
   ]
  },
  {
   "cell_type": "code",
   "execution_count": 15,
   "id": "85d692bf",
   "metadata": {
    "execution": {
     "iopub.execute_input": "2025-02-22T20:49:39.273828Z",
     "iopub.status.busy": "2025-02-22T20:49:39.273498Z",
     "iopub.status.idle": "2025-02-22T20:49:39.280218Z",
     "shell.execute_reply": "2025-02-22T20:49:39.279121Z"
    },
    "papermill": {
     "duration": 0.015783,
     "end_time": "2025-02-22T20:49:39.282011",
     "exception": false,
     "start_time": "2025-02-22T20:49:39.266228",
     "status": "completed"
    },
    "tags": []
   },
   "outputs": [
    {
     "data": {
      "text/plain": [
       "tensor([[12, 12, 12, 12],\n",
       "        [12, 12, 12, 12],\n",
       "        [ 8,  9, 10, 11]])"
      ]
     },
     "execution_count": 15,
     "metadata": {},
     "output_type": "execute_result"
    }
   ],
   "source": [
    "X[:2, :] = 12\n",
    "X"
   ]
  },
  {
   "cell_type": "code",
   "execution_count": 16,
   "id": "482edb76",
   "metadata": {
    "execution": {
     "iopub.execute_input": "2025-02-22T20:49:39.297377Z",
     "iopub.status.busy": "2025-02-22T20:49:39.297041Z",
     "iopub.status.idle": "2025-02-22T20:49:39.314793Z",
     "shell.execute_reply": "2025-02-22T20:49:39.313801Z"
    },
    "papermill": {
     "duration": 0.027063,
     "end_time": "2025-02-22T20:49:39.316528",
     "exception": false,
     "start_time": "2025-02-22T20:49:39.289465",
     "status": "completed"
    },
    "tags": []
   },
   "outputs": [
    {
     "data": {
      "text/plain": [
       "tensor([162754.7969, 162754.7969, 162754.7969, 162754.7969, 162754.7969,\n",
       "        162754.7969, 162754.7969, 162754.7969,   2980.9580,   8103.0840,\n",
       "         22026.4648,  59874.1406])"
      ]
     },
     "execution_count": 16,
     "metadata": {},
     "output_type": "execute_result"
    }
   ],
   "source": [
    "torch.exp(x)"
   ]
  },
  {
   "cell_type": "code",
   "execution_count": 17,
   "id": "c28719a5",
   "metadata": {
    "execution": {
     "iopub.execute_input": "2025-02-22T20:49:39.330089Z",
     "iopub.status.busy": "2025-02-22T20:49:39.329710Z",
     "iopub.status.idle": "2025-02-22T20:49:39.342340Z",
     "shell.execute_reply": "2025-02-22T20:49:39.341318Z"
    },
    "papermill": {
     "duration": 0.021315,
     "end_time": "2025-02-22T20:49:39.343943",
     "exception": false,
     "start_time": "2025-02-22T20:49:39.322628",
     "status": "completed"
    },
    "tags": []
   },
   "outputs": [
    {
     "data": {
      "text/plain": [
       "(tensor([3, 4, 5, 6]),\n",
       " tensor([-1,  0,  1,  2]),\n",
       " tensor([2, 4, 6, 8]),\n",
       " tensor([0.5000, 1.0000, 1.5000, 2.0000]),\n",
       " tensor([ 1,  4,  9, 16]))"
      ]
     },
     "execution_count": 17,
     "metadata": {},
     "output_type": "execute_result"
    }
   ],
   "source": [
    "x = torch.tensor([1,2,3,4])\n",
    "y = torch.tensor([2,2,2,2])\n",
    "\n",
    "x+y, x-y, x*y, x/y, x**y"
   ]
  },
  {
   "cell_type": "code",
   "execution_count": 18,
   "id": "d742ffa2",
   "metadata": {
    "execution": {
     "iopub.execute_input": "2025-02-22T20:49:39.358059Z",
     "iopub.status.busy": "2025-02-22T20:49:39.357697Z",
     "iopub.status.idle": "2025-02-22T20:49:39.371625Z",
     "shell.execute_reply": "2025-02-22T20:49:39.370467Z"
    },
    "papermill": {
     "duration": 0.022853,
     "end_time": "2025-02-22T20:49:39.373370",
     "exception": false,
     "start_time": "2025-02-22T20:49:39.350517",
     "status": "completed"
    },
    "tags": []
   },
   "outputs": [
    {
     "data": {
      "text/plain": [
       "(tensor([[ 0.,  1.,  2.,  3.],\n",
       "         [ 4.,  5.,  6.,  7.],\n",
       "         [ 8.,  9., 10., 11.],\n",
       "         [ 0.,  2.,  3.,  4.],\n",
       "         [ 2.,  3.,  4.,  5.],\n",
       "         [ 1.,  4.,  6.,  8.]]),\n",
       " tensor([[ 0.,  1.,  2.,  3.,  0.,  2.,  3.,  4.],\n",
       "         [ 4.,  5.,  6.,  7.,  2.,  3.,  4.,  5.],\n",
       "         [ 8.,  9., 10., 11.,  1.,  4.,  6.,  8.]]))"
      ]
     },
     "execution_count": 18,
     "metadata": {},
     "output_type": "execute_result"
    }
   ],
   "source": [
    "X = torch.arange(12, dtype=torch.float32).reshape((3,4))\n",
    "Y = torch.tensor([[0,2,3,4], [2,3,4,5], [1,4,6,8]])\n",
    "torch.cat((X,Y), dim=0), torch.cat((X,Y), dim=1)"
   ]
  },
  {
   "cell_type": "code",
   "execution_count": 19,
   "id": "2a72185d",
   "metadata": {
    "execution": {
     "iopub.execute_input": "2025-02-22T20:49:39.387922Z",
     "iopub.status.busy": "2025-02-22T20:49:39.387559Z",
     "iopub.status.idle": "2025-02-22T20:49:39.394809Z",
     "shell.execute_reply": "2025-02-22T20:49:39.393747Z"
    },
    "papermill": {
     "duration": 0.016256,
     "end_time": "2025-02-22T20:49:39.396644",
     "exception": false,
     "start_time": "2025-02-22T20:49:39.380388",
     "status": "completed"
    },
    "tags": []
   },
   "outputs": [
    {
     "data": {
      "text/plain": [
       "tensor([[ True, False, False, False],\n",
       "        [False, False, False, False],\n",
       "        [False, False, False, False]])"
      ]
     },
     "execution_count": 19,
     "metadata": {},
     "output_type": "execute_result"
    }
   ],
   "source": [
    "X==Y"
   ]
  },
  {
   "cell_type": "code",
   "execution_count": 20,
   "id": "125e304a",
   "metadata": {
    "execution": {
     "iopub.execute_input": "2025-02-22T20:49:39.411106Z",
     "iopub.status.busy": "2025-02-22T20:49:39.410681Z",
     "iopub.status.idle": "2025-02-22T20:49:39.417922Z",
     "shell.execute_reply": "2025-02-22T20:49:39.416912Z"
    },
    "papermill": {
     "duration": 0.016158,
     "end_time": "2025-02-22T20:49:39.419631",
     "exception": false,
     "start_time": "2025-02-22T20:49:39.403473",
     "status": "completed"
    },
    "tags": []
   },
   "outputs": [
    {
     "data": {
      "text/plain": [
       "tensor(66.)"
      ]
     },
     "execution_count": 20,
     "metadata": {},
     "output_type": "execute_result"
    }
   ],
   "source": [
    "X.sum()"
   ]
  },
  {
   "cell_type": "code",
   "execution_count": 21,
   "id": "10d769fa",
   "metadata": {
    "execution": {
     "iopub.execute_input": "2025-02-22T20:49:39.434321Z",
     "iopub.status.busy": "2025-02-22T20:49:39.433997Z",
     "iopub.status.idle": "2025-02-22T20:49:39.441840Z",
     "shell.execute_reply": "2025-02-22T20:49:39.440754Z"
    },
    "papermill": {
     "duration": 0.017463,
     "end_time": "2025-02-22T20:49:39.443574",
     "exception": false,
     "start_time": "2025-02-22T20:49:39.426111",
     "status": "completed"
    },
    "tags": []
   },
   "outputs": [
    {
     "data": {
      "text/plain": [
       "(tensor([[0],\n",
       "         [1],\n",
       "         [2]]),\n",
       " tensor([[0, 1]]))"
      ]
     },
     "execution_count": 21,
     "metadata": {},
     "output_type": "execute_result"
    }
   ],
   "source": [
    "a = torch.arange(3).reshape((3,1))\n",
    "b = torch.arange(2).reshape((1,2))\n",
    "a, b"
   ]
  },
  {
   "cell_type": "code",
   "execution_count": 22,
   "id": "14ca4c6d",
   "metadata": {
    "execution": {
     "iopub.execute_input": "2025-02-22T20:49:39.458099Z",
     "iopub.status.busy": "2025-02-22T20:49:39.457706Z",
     "iopub.status.idle": "2025-02-22T20:49:39.463771Z",
     "shell.execute_reply": "2025-02-22T20:49:39.462945Z"
    },
    "papermill": {
     "duration": 0.015164,
     "end_time": "2025-02-22T20:49:39.465451",
     "exception": false,
     "start_time": "2025-02-22T20:49:39.450287",
     "status": "completed"
    },
    "tags": []
   },
   "outputs": [
    {
     "data": {
      "text/plain": [
       "tensor([[0, 1],\n",
       "        [1, 2],\n",
       "        [2, 3]])"
      ]
     },
     "execution_count": 22,
     "metadata": {},
     "output_type": "execute_result"
    }
   ],
   "source": [
    "a+b"
   ]
  }
 ],
 "metadata": {
  "kaggle": {
   "accelerator": "none",
   "dataSources": [],
   "dockerImageVersionId": 30886,
   "isGpuEnabled": false,
   "isInternetEnabled": true,
   "language": "python",
   "sourceType": "notebook"
  },
  "kernelspec": {
   "display_name": "Python 3",
   "language": "python",
   "name": "python3"
  },
  "language_info": {
   "codemirror_mode": {
    "name": "ipython",
    "version": 3
   },
   "file_extension": ".py",
   "mimetype": "text/x-python",
   "name": "python",
   "nbconvert_exporter": "python",
   "pygments_lexer": "ipython3",
   "version": "3.10.12"
  },
  "papermill": {
   "default_parameters": {},
   "duration": 11.222429,
   "end_time": "2025-02-22T20:49:40.998807",
   "environment_variables": {},
   "exception": null,
   "input_path": "__notebook__.ipynb",
   "output_path": "__notebook__.ipynb",
   "parameters": {},
   "start_time": "2025-02-22T20:49:29.776378",
   "version": "2.6.0"
  }
 },
 "nbformat": 4,
 "nbformat_minor": 5
}
