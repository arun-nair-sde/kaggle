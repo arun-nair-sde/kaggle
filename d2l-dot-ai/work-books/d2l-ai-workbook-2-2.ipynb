{
 "cells": [
  {
   "cell_type": "code",
   "execution_count": 1,
   "id": "1a6cff09",
   "metadata": {
    "_cell_guid": "b1076dfc-b9ad-4769-8c92-a6c4dae69d19",
    "_uuid": "8f2839f25d086af736a60e9eeb907d3b93b6e0e5",
    "execution": {
     "iopub.execute_input": "2025-02-22T21:00:23.263068Z",
     "iopub.status.busy": "2025-02-22T21:00:23.262694Z",
     "iopub.status.idle": "2025-02-22T21:00:24.332929Z",
     "shell.execute_reply": "2025-02-22T21:00:24.331792Z"
    },
    "papermill": {
     "duration": 1.075806,
     "end_time": "2025-02-22T21:00:24.334817",
     "exception": false,
     "start_time": "2025-02-22T21:00:23.259011",
     "status": "completed"
    },
    "tags": []
   },
   "outputs": [],
   "source": [
    "# This Python 3 environment comes with many helpful analytics libraries installed\n",
    "# It is defined by the kaggle/python Docker image: https://github.com/kaggle/docker-python\n",
    "# For example, here's several helpful packages to load\n",
    "\n",
    "import numpy as np # linear algebra\n",
    "import pandas as pd # data processing, CSV file I/O (e.g. pd.read_csv)\n",
    "\n",
    "# Input data files are available in the read-only \"../input/\" directory\n",
    "# For example, running this (by clicking run or pressing Shift+Enter) will list all files under the input directory\n",
    "\n",
    "import os\n",
    "for dirname, _, filenames in os.walk('/kaggle/input'):\n",
    "    for filename in filenames:\n",
    "        print(os.path.join(dirname, filename))\n",
    "\n",
    "# You can write up to 20GB to the current directory (/kaggle/working/) that gets preserved as output when you create a version using \"Save & Run All\" \n",
    "# You can also write temporary files to /kaggle/temp/, but they won't be saved outside of the current session"
   ]
  },
  {
   "cell_type": "code",
   "execution_count": 2,
   "id": "77d7560f",
   "metadata": {
    "execution": {
     "iopub.execute_input": "2025-02-22T21:00:24.340959Z",
     "iopub.status.busy": "2025-02-22T21:00:24.340381Z",
     "iopub.status.idle": "2025-02-22T21:00:24.344918Z",
     "shell.execute_reply": "2025-02-22T21:00:24.343715Z"
    },
    "papermill": {
     "duration": 0.009285,
     "end_time": "2025-02-22T21:00:24.346832",
     "exception": false,
     "start_time": "2025-02-22T21:00:24.337547",
     "status": "completed"
    },
    "tags": []
   },
   "outputs": [],
   "source": [
    "import os"
   ]
  },
  {
   "cell_type": "code",
   "execution_count": 3,
   "id": "ccb4291a",
   "metadata": {
    "execution": {
     "iopub.execute_input": "2025-02-22T21:00:24.352410Z",
     "iopub.status.busy": "2025-02-22T21:00:24.352008Z",
     "iopub.status.idle": "2025-02-22T21:00:24.357972Z",
     "shell.execute_reply": "2025-02-22T21:00:24.356830Z"
    },
    "papermill": {
     "duration": 0.010765,
     "end_time": "2025-02-22T21:00:24.359863",
     "exception": false,
     "start_time": "2025-02-22T21:00:24.349098",
     "status": "completed"
    },
    "tags": []
   },
   "outputs": [],
   "source": [
    "os.makedirs(\"data\", exist_ok=True)\n",
    "data_file = os.path.join(\"data\", \"house_tiny.csv\")\n",
    "with open(data_file, 'w') as f:\n",
    "    f.write(\"\"\"\n",
    "    NumRooms,RoofType,Price\n",
    "    NA,NA,127500\n",
    "    2,NA,106000\n",
    "    4,Slate,178100\n",
    "    NA,NA,140000\"\"\"\n",
    "    )"
   ]
  },
  {
   "cell_type": "code",
   "execution_count": 4,
   "id": "d0a35b88",
   "metadata": {
    "execution": {
     "iopub.execute_input": "2025-02-22T21:00:24.365627Z",
     "iopub.status.busy": "2025-02-22T21:00:24.365269Z",
     "iopub.status.idle": "2025-02-22T21:00:24.391166Z",
     "shell.execute_reply": "2025-02-22T21:00:24.389852Z"
    },
    "papermill": {
     "duration": 0.031293,
     "end_time": "2025-02-22T21:00:24.393647",
     "exception": false,
     "start_time": "2025-02-22T21:00:24.362354",
     "status": "completed"
    },
    "tags": []
   },
   "outputs": [
    {
     "name": "stdout",
     "output_type": "stream",
     "text": [
      "      NumRooms RoofType   Price\n",
      "0           NA      NaN  127500\n",
      "1            2      NaN  106000\n",
      "2            4    Slate  178100\n",
      "3           NA      NaN  140000\n"
     ]
    }
   ],
   "source": [
    "data = pd.read_csv(data_file)\n",
    "print(data)"
   ]
  },
  {
   "cell_type": "code",
   "execution_count": null,
   "id": "f31a2d24",
   "metadata": {
    "papermill": {
     "duration": 0.00185,
     "end_time": "2025-02-22T21:00:24.397945",
     "exception": false,
     "start_time": "2025-02-22T21:00:24.396095",
     "status": "completed"
    },
    "tags": []
   },
   "outputs": [],
   "source": []
  }
 ],
 "metadata": {
  "kaggle": {
   "accelerator": "none",
   "dataSources": [],
   "dockerImageVersionId": 30918,
   "isGpuEnabled": false,
   "isInternetEnabled": true,
   "language": "python",
   "sourceType": "notebook"
  },
  "kernelspec": {
   "display_name": "Python 3",
   "language": "python",
   "name": "python3"
  },
  "language_info": {
   "codemirror_mode": {
    "name": "ipython",
    "version": 3
   },
   "file_extension": ".py",
   "mimetype": "text/x-python",
   "name": "python",
   "nbconvert_exporter": "python",
   "pygments_lexer": "ipython3",
   "version": "3.10.12"
  },
  "papermill": {
   "default_parameters": {},
   "duration": 4.750766,
   "end_time": "2025-02-22T21:00:25.021304",
   "environment_variables": {},
   "exception": null,
   "input_path": "__notebook__.ipynb",
   "output_path": "__notebook__.ipynb",
   "parameters": {},
   "start_time": "2025-02-22T21:00:20.270538",
   "version": "2.6.0"
  }
 },
 "nbformat": 4,
 "nbformat_minor": 5
}
