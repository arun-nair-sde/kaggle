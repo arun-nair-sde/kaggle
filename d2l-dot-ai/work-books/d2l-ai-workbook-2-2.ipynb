{
 "cells": [
  {
   "cell_type": "code",
   "execution_count": 1,
   "id": "039c399b",
   "metadata": {
    "execution": {
     "iopub.execute_input": "2025-02-27T11:35:26.307167Z",
     "iopub.status.busy": "2025-02-27T11:35:26.306781Z",
     "iopub.status.idle": "2025-02-27T11:35:26.312335Z",
     "shell.execute_reply": "2025-02-27T11:35:26.311338Z"
    },
    "papermill": {
     "duration": 0.012651,
     "end_time": "2025-02-27T11:35:26.313905",
     "exception": false,
     "start_time": "2025-02-27T11:35:26.301254",
     "status": "completed"
    },
    "tags": []
   },
   "outputs": [],
   "source": [
    "import warnings\n",
    "warnings.simplefilter(action = \"ignore\", category = RuntimeWarning)"
   ]
  },
  {
   "cell_type": "code",
   "execution_count": 2,
   "id": "0211ccb3",
   "metadata": {
    "_cell_guid": "b1076dfc-b9ad-4769-8c92-a6c4dae69d19",
    "_uuid": "8f2839f25d086af736a60e9eeb907d3b93b6e0e5",
    "execution": {
     "iopub.execute_input": "2025-02-27T11:35:26.322463Z",
     "iopub.status.busy": "2025-02-27T11:35:26.322117Z",
     "iopub.status.idle": "2025-02-27T11:35:30.948177Z",
     "shell.execute_reply": "2025-02-27T11:35:30.947155Z"
    },
    "papermill": {
     "duration": 4.632191,
     "end_time": "2025-02-27T11:35:30.950017",
     "exception": false,
     "start_time": "2025-02-27T11:35:26.317826",
     "status": "completed"
    },
    "tags": []
   },
   "outputs": [],
   "source": [
    "# This Python 3 environment comes with many helpful analytics libraries installed\n",
    "# It is defined by the kaggle/python Docker image: https://github.com/kaggle/docker-python\n",
    "# For example, here's several helpful packages to load\n",
    "\n",
    "import numpy as np # linear algebra\n",
    "import pandas as pd # data processing, CSV file I/O (e.g. pd.read_csv)\n",
    "import torch\n",
    "\n",
    "# Input data files are available in the read-only \"../input/\" directory\n",
    "# For example, running this (by clicking run or pressing Shift+Enter) will list all files under the input directory\n",
    "\n",
    "import os\n",
    "for dirname, _, filenames in os.walk('/kaggle/input'):\n",
    "    for filename in filenames:\n",
    "        print(os.path.join(dirname, filename))\n",
    "\n",
    "# You can write up to 20GB to the current directory (/kaggle/working/) that gets preserved as output when you create a version using \"Save & Run All\" \n",
    "# You can also write temporary files to /kaggle/temp/, but they won't be saved outside of the current session"
   ]
  },
  {
   "cell_type": "code",
   "execution_count": 3,
   "id": "7b38a06e",
   "metadata": {
    "execution": {
     "iopub.execute_input": "2025-02-27T11:35:30.960195Z",
     "iopub.status.busy": "2025-02-27T11:35:30.959699Z",
     "iopub.status.idle": "2025-02-27T11:35:30.964951Z",
     "shell.execute_reply": "2025-02-27T11:35:30.963919Z"
    },
    "papermill": {
     "duration": 0.012105,
     "end_time": "2025-02-27T11:35:30.967481",
     "exception": false,
     "start_time": "2025-02-27T11:35:30.955376",
     "status": "completed"
    },
    "tags": []
   },
   "outputs": [],
   "source": [
    "os.makedirs(\"data\", exist_ok=True)\n",
    "data_file = os.path.join(\"data\", \"house_tiny.csv\")\n",
    "with open(data_file, 'w') as f:\n",
    "    f.write(\n",
    "\"\"\"\n",
    "NumRooms,RoofType,Price\n",
    "NA,NA,127500\n",
    "2,NA,106000\n",
    "4,Slate,178100\n",
    "NA,NA,140000\n",
    "\"\"\"\n",
    "    )"
   ]
  },
  {
   "cell_type": "code",
   "execution_count": 4,
   "id": "8cc8441e",
   "metadata": {
    "execution": {
     "iopub.execute_input": "2025-02-27T11:35:30.976843Z",
     "iopub.status.busy": "2025-02-27T11:35:30.976504Z",
     "iopub.status.idle": "2025-02-27T11:35:30.998253Z",
     "shell.execute_reply": "2025-02-27T11:35:30.997224Z"
    },
    "papermill": {
     "duration": 0.028895,
     "end_time": "2025-02-27T11:35:31.000062",
     "exception": false,
     "start_time": "2025-02-27T11:35:30.971167",
     "status": "completed"
    },
    "tags": []
   },
   "outputs": [
    {
     "name": "stdout",
     "output_type": "stream",
     "text": [
      "   NumRooms RoofType   Price\n",
      "0       NaN      NaN  127500\n",
      "1       2.0      NaN  106000\n",
      "2       4.0    Slate  178100\n",
      "3       NaN      NaN  140000\n"
     ]
    }
   ],
   "source": [
    "data = pd.read_csv(data_file)\n",
    "print(data)"
   ]
  },
  {
   "cell_type": "code",
   "execution_count": 5,
   "id": "717dd08d",
   "metadata": {
    "execution": {
     "iopub.execute_input": "2025-02-27T11:35:31.008645Z",
     "iopub.status.busy": "2025-02-27T11:35:31.008317Z",
     "iopub.status.idle": "2025-02-27T11:35:31.019088Z",
     "shell.execute_reply": "2025-02-27T11:35:31.017959Z"
    },
    "papermill": {
     "duration": 0.016711,
     "end_time": "2025-02-27T11:35:31.020637",
     "exception": false,
     "start_time": "2025-02-27T11:35:31.003926",
     "status": "completed"
    },
    "tags": []
   },
   "outputs": [
    {
     "name": "stdout",
     "output_type": "stream",
     "text": [
      "   NumRooms RoofType\n",
      "0       NaN      NaN\n",
      "1       2.0      NaN\n",
      "2       4.0    Slate\n",
      "3       NaN      NaN\n",
      "0    127500\n",
      "1    106000\n",
      "2    178100\n",
      "3    140000\n",
      "Name: Price, dtype: int64\n"
     ]
    }
   ],
   "source": [
    "inputs, targets = data.iloc[:,:2], data.iloc[:,2]\n",
    "\n",
    "print(inputs)\n",
    "print(targets)"
   ]
  },
  {
   "cell_type": "code",
   "execution_count": 6,
   "id": "3a94cf1c",
   "metadata": {
    "execution": {
     "iopub.execute_input": "2025-02-27T11:35:31.029003Z",
     "iopub.status.busy": "2025-02-27T11:35:31.028719Z",
     "iopub.status.idle": "2025-02-27T11:35:31.052542Z",
     "shell.execute_reply": "2025-02-27T11:35:31.051573Z"
    },
    "papermill": {
     "duration": 0.029594,
     "end_time": "2025-02-27T11:35:31.054074",
     "exception": false,
     "start_time": "2025-02-27T11:35:31.024480",
     "status": "completed"
    },
    "tags": []
   },
   "outputs": [
    {
     "data": {
      "text/html": [
       "<div>\n",
       "<style scoped>\n",
       "    .dataframe tbody tr th:only-of-type {\n",
       "        vertical-align: middle;\n",
       "    }\n",
       "\n",
       "    .dataframe tbody tr th {\n",
       "        vertical-align: top;\n",
       "    }\n",
       "\n",
       "    .dataframe thead th {\n",
       "        text-align: right;\n",
       "    }\n",
       "</style>\n",
       "<table border=\"1\" class=\"dataframe\">\n",
       "  <thead>\n",
       "    <tr style=\"text-align: right;\">\n",
       "      <th></th>\n",
       "      <th>NumRooms</th>\n",
       "      <th>RoofType_Slate</th>\n",
       "      <th>RoofType_nan</th>\n",
       "    </tr>\n",
       "  </thead>\n",
       "  <tbody>\n",
       "    <tr>\n",
       "      <th>0</th>\n",
       "      <td>NaN</td>\n",
       "      <td>False</td>\n",
       "      <td>True</td>\n",
       "    </tr>\n",
       "    <tr>\n",
       "      <th>1</th>\n",
       "      <td>2.0</td>\n",
       "      <td>False</td>\n",
       "      <td>True</td>\n",
       "    </tr>\n",
       "    <tr>\n",
       "      <th>2</th>\n",
       "      <td>4.0</td>\n",
       "      <td>True</td>\n",
       "      <td>False</td>\n",
       "    </tr>\n",
       "    <tr>\n",
       "      <th>3</th>\n",
       "      <td>NaN</td>\n",
       "      <td>False</td>\n",
       "      <td>True</td>\n",
       "    </tr>\n",
       "  </tbody>\n",
       "</table>\n",
       "</div>"
      ],
      "text/plain": [
       "   NumRooms  RoofType_Slate  RoofType_nan\n",
       "0       NaN           False          True\n",
       "1       2.0           False          True\n",
       "2       4.0            True         False\n",
       "3       NaN           False          True"
      ]
     },
     "execution_count": 6,
     "metadata": {},
     "output_type": "execute_result"
    }
   ],
   "source": [
    "inputs = pd.get_dummies(inputs, dummy_na=True)\n",
    "inputs"
   ]
  },
  {
   "cell_type": "code",
   "execution_count": 7,
   "id": "2e2521b0",
   "metadata": {
    "execution": {
     "iopub.execute_input": "2025-02-27T11:35:31.062929Z",
     "iopub.status.busy": "2025-02-27T11:35:31.062614Z",
     "iopub.status.idle": "2025-02-27T11:35:31.074265Z",
     "shell.execute_reply": "2025-02-27T11:35:31.073408Z"
    },
    "papermill": {
     "duration": 0.017601,
     "end_time": "2025-02-27T11:35:31.075688",
     "exception": false,
     "start_time": "2025-02-27T11:35:31.058087",
     "status": "completed"
    },
    "tags": []
   },
   "outputs": [
    {
     "data": {
      "text/html": [
       "<div>\n",
       "<style scoped>\n",
       "    .dataframe tbody tr th:only-of-type {\n",
       "        vertical-align: middle;\n",
       "    }\n",
       "\n",
       "    .dataframe tbody tr th {\n",
       "        vertical-align: top;\n",
       "    }\n",
       "\n",
       "    .dataframe thead th {\n",
       "        text-align: right;\n",
       "    }\n",
       "</style>\n",
       "<table border=\"1\" class=\"dataframe\">\n",
       "  <thead>\n",
       "    <tr style=\"text-align: right;\">\n",
       "      <th></th>\n",
       "      <th>NumRooms</th>\n",
       "      <th>RoofType_Slate</th>\n",
       "      <th>RoofType_nan</th>\n",
       "    </tr>\n",
       "  </thead>\n",
       "  <tbody>\n",
       "    <tr>\n",
       "      <th>0</th>\n",
       "      <td>3.0</td>\n",
       "      <td>False</td>\n",
       "      <td>True</td>\n",
       "    </tr>\n",
       "    <tr>\n",
       "      <th>1</th>\n",
       "      <td>2.0</td>\n",
       "      <td>False</td>\n",
       "      <td>True</td>\n",
       "    </tr>\n",
       "    <tr>\n",
       "      <th>2</th>\n",
       "      <td>4.0</td>\n",
       "      <td>True</td>\n",
       "      <td>False</td>\n",
       "    </tr>\n",
       "    <tr>\n",
       "      <th>3</th>\n",
       "      <td>3.0</td>\n",
       "      <td>False</td>\n",
       "      <td>True</td>\n",
       "    </tr>\n",
       "  </tbody>\n",
       "</table>\n",
       "</div>"
      ],
      "text/plain": [
       "   NumRooms  RoofType_Slate  RoofType_nan\n",
       "0       3.0           False          True\n",
       "1       2.0           False          True\n",
       "2       4.0            True         False\n",
       "3       3.0           False          True"
      ]
     },
     "execution_count": 7,
     "metadata": {},
     "output_type": "execute_result"
    }
   ],
   "source": [
    "inputs = inputs.fillna(inputs.mean())\n",
    "inputs"
   ]
  },
  {
   "cell_type": "code",
   "execution_count": 8,
   "id": "a80f580c",
   "metadata": {
    "execution": {
     "iopub.execute_input": "2025-02-27T11:35:31.084471Z",
     "iopub.status.busy": "2025-02-27T11:35:31.084112Z",
     "iopub.status.idle": "2025-02-27T11:35:31.182402Z",
     "shell.execute_reply": "2025-02-27T11:35:31.181364Z"
    },
    "papermill": {
     "duration": 0.10444,
     "end_time": "2025-02-27T11:35:31.184061",
     "exception": false,
     "start_time": "2025-02-27T11:35:31.079621",
     "status": "completed"
    },
    "tags": []
   },
   "outputs": [
    {
     "data": {
      "text/plain": [
       "(tensor([[3., 0., 1.],\n",
       "         [2., 0., 1.],\n",
       "         [4., 1., 0.],\n",
       "         [3., 0., 1.]], dtype=torch.float64),\n",
       " tensor([127500., 106000., 178100., 140000.], dtype=torch.float64))"
      ]
     },
     "execution_count": 8,
     "metadata": {},
     "output_type": "execute_result"
    }
   ],
   "source": [
    "X = torch.tensor(inputs.to_numpy(dtype=float))\n",
    "y = torch.tensor(targets.to_numpy(dtype=float))\n",
    "X,y"
   ]
  },
  {
   "cell_type": "markdown",
   "id": "44464bbd",
   "metadata": {
    "papermill": {
     "duration": 0.003716,
     "end_time": "2025-02-27T11:35:31.192173",
     "exception": false,
     "start_time": "2025-02-27T11:35:31.188457",
     "status": "completed"
    },
    "tags": []
   },
   "source": [
    "### Exercises"
   ]
  },
  {
   "cell_type": "markdown",
   "id": "002e7e85",
   "metadata": {
    "papermill": {
     "duration": 0.003617,
     "end_time": "2025-02-27T11:35:31.199634",
     "exception": false,
     "start_time": "2025-02-27T11:35:31.196017",
     "status": "completed"
    },
    "tags": []
   },
   "source": [
    "1. Try loading datasets, e.g., Abalone from the [UCI Machine Learning Repository](https://archive.ics.uci.edu/dataset/1/abalone) and inspect their properties. What fraction of them has missing values? What fraction of the variables is numerical, categorical, or text?"
   ]
  },
  {
   "cell_type": "code",
   "execution_count": 9,
   "id": "6a93fa97",
   "metadata": {
    "execution": {
     "iopub.execute_input": "2025-02-27T11:35:31.208585Z",
     "iopub.status.busy": "2025-02-27T11:35:31.208199Z",
     "iopub.status.idle": "2025-02-27T11:35:36.689343Z",
     "shell.execute_reply": "2025-02-27T11:35:36.687759Z"
    },
    "papermill": {
     "duration": 5.487847,
     "end_time": "2025-02-27T11:35:36.691363",
     "exception": false,
     "start_time": "2025-02-27T11:35:31.203516",
     "status": "completed"
    },
    "tags": []
   },
   "outputs": [],
   "source": [
    "%%capture\n",
    "!pip install ucimlrepo"
   ]
  },
  {
   "cell_type": "code",
   "execution_count": 10,
   "id": "0b866b15",
   "metadata": {
    "execution": {
     "iopub.execute_input": "2025-02-27T11:35:36.700864Z",
     "iopub.status.busy": "2025-02-27T11:35:36.700543Z",
     "iopub.status.idle": "2025-02-27T11:35:36.709560Z",
     "shell.execute_reply": "2025-02-27T11:35:36.708752Z"
    },
    "papermill": {
     "duration": 0.01526,
     "end_time": "2025-02-27T11:35:36.711032",
     "exception": false,
     "start_time": "2025-02-27T11:35:36.695772",
     "status": "completed"
    },
    "tags": []
   },
   "outputs": [],
   "source": [
    "import pandas as pd\n",
    "from ucimlrepo import fetch_ucirepo"
   ]
  },
  {
   "cell_type": "code",
   "execution_count": 11,
   "id": "776e7b3c",
   "metadata": {
    "execution": {
     "iopub.execute_input": "2025-02-27T11:35:36.719967Z",
     "iopub.status.busy": "2025-02-27T11:35:36.719696Z",
     "iopub.status.idle": "2025-02-27T11:35:37.781526Z",
     "shell.execute_reply": "2025-02-27T11:35:37.780301Z"
    },
    "papermill": {
     "duration": 1.067822,
     "end_time": "2025-02-27T11:35:37.783064",
     "exception": false,
     "start_time": "2025-02-27T11:35:36.715242",
     "status": "completed"
    },
    "tags": []
   },
   "outputs": [
    {
     "name": "stdout",
     "output_type": "stream",
     "text": [
      "<class 'pandas.core.frame.DataFrame'>\n",
      "RangeIndex: 4177 entries, 0 to 4176\n",
      "Data columns (total 9 columns):\n",
      " #   Column          Non-Null Count  Dtype  \n",
      "---  ------          --------------  -----  \n",
      " 0   Sex             4177 non-null   object \n",
      " 1   Length          4177 non-null   float64\n",
      " 2   Diameter        4177 non-null   float64\n",
      " 3   Height          4177 non-null   float64\n",
      " 4   Whole_weight    4177 non-null   float64\n",
      " 5   Shucked_weight  4177 non-null   float64\n",
      " 6   Viscera_weight  4177 non-null   float64\n",
      " 7   Shell_weight    4177 non-null   float64\n",
      " 8   Rings           4177 non-null   int64  \n",
      "dtypes: float64(7), int64(1), object(1)\n",
      "memory usage: 293.8+ KB\n"
     ]
    }
   ],
   "source": [
    "# fetch dataset \n",
    "abalone_df = fetch_ucirepo(id=1).data.original\n",
    "\n",
    "abalone_df.info()"
   ]
  },
  {
   "cell_type": "code",
   "execution_count": 12,
   "id": "fc290aac",
   "metadata": {
    "execution": {
     "iopub.execute_input": "2025-02-27T11:35:37.793042Z",
     "iopub.status.busy": "2025-02-27T11:35:37.792688Z",
     "iopub.status.idle": "2025-02-27T11:35:37.801452Z",
     "shell.execute_reply": "2025-02-27T11:35:37.800570Z"
    },
    "papermill": {
     "duration": 0.015407,
     "end_time": "2025-02-27T11:35:37.802908",
     "exception": false,
     "start_time": "2025-02-27T11:35:37.787501",
     "status": "completed"
    },
    "tags": []
   },
   "outputs": [
    {
     "data": {
      "text/plain": [
       "Sex               0.0\n",
       "Length            0.0\n",
       "Diameter          0.0\n",
       "Height            0.0\n",
       "Whole_weight      0.0\n",
       "Shucked_weight    0.0\n",
       "Viscera_weight    0.0\n",
       "Shell_weight      0.0\n",
       "Rings             0.0\n",
       "dtype: float64"
      ]
     },
     "execution_count": 12,
     "metadata": {},
     "output_type": "execute_result"
    }
   ],
   "source": [
    "abalone_df.isnull().mean()"
   ]
  },
  {
   "cell_type": "markdown",
   "id": "abdc2baa",
   "metadata": {
    "papermill": {
     "duration": 0.003938,
     "end_time": "2025-02-27T11:35:37.811374",
     "exception": false,
     "start_time": "2025-02-27T11:35:37.807436",
     "status": "completed"
    },
    "tags": []
   },
   "source": [
    "2. Try indexing and selecting data columns by name rather than by column number. The pandas documentation on [indexing](https://pandas.pydata.org/pandas-docs/stable/user_guide/indexing.html) has further details on how to do this."
   ]
  },
  {
   "cell_type": "code",
   "execution_count": 13,
   "id": "d067114d",
   "metadata": {
    "execution": {
     "iopub.execute_input": "2025-02-27T11:35:37.821001Z",
     "iopub.status.busy": "2025-02-27T11:35:37.820675Z",
     "iopub.status.idle": "2025-02-27T11:35:37.840376Z",
     "shell.execute_reply": "2025-02-27T11:35:37.839258Z"
    },
    "papermill": {
     "duration": 0.026224,
     "end_time": "2025-02-27T11:35:37.841885",
     "exception": false,
     "start_time": "2025-02-27T11:35:37.815661",
     "status": "completed"
    },
    "tags": []
   },
   "outputs": [
    {
     "data": {
      "text/html": [
       "<div>\n",
       "<style scoped>\n",
       "    .dataframe tbody tr th:only-of-type {\n",
       "        vertical-align: middle;\n",
       "    }\n",
       "\n",
       "    .dataframe tbody tr th {\n",
       "        vertical-align: top;\n",
       "    }\n",
       "\n",
       "    .dataframe thead th {\n",
       "        text-align: right;\n",
       "    }\n",
       "</style>\n",
       "<table border=\"1\" class=\"dataframe\">\n",
       "  <thead>\n",
       "    <tr style=\"text-align: right;\">\n",
       "      <th></th>\n",
       "      <th>Sex</th>\n",
       "      <th>Length</th>\n",
       "      <th>Diameter</th>\n",
       "      <th>Height</th>\n",
       "      <th>Whole_weight</th>\n",
       "      <th>Shucked_weight</th>\n",
       "      <th>Viscera_weight</th>\n",
       "      <th>Shell_weight</th>\n",
       "    </tr>\n",
       "  </thead>\n",
       "  <tbody>\n",
       "    <tr>\n",
       "      <th>0</th>\n",
       "      <td>M</td>\n",
       "      <td>0.455</td>\n",
       "      <td>0.365</td>\n",
       "      <td>0.095</td>\n",
       "      <td>0.5140</td>\n",
       "      <td>0.2245</td>\n",
       "      <td>0.1010</td>\n",
       "      <td>0.1500</td>\n",
       "    </tr>\n",
       "    <tr>\n",
       "      <th>1</th>\n",
       "      <td>M</td>\n",
       "      <td>0.350</td>\n",
       "      <td>0.265</td>\n",
       "      <td>0.090</td>\n",
       "      <td>0.2255</td>\n",
       "      <td>0.0995</td>\n",
       "      <td>0.0485</td>\n",
       "      <td>0.0700</td>\n",
       "    </tr>\n",
       "    <tr>\n",
       "      <th>2</th>\n",
       "      <td>F</td>\n",
       "      <td>0.530</td>\n",
       "      <td>0.420</td>\n",
       "      <td>0.135</td>\n",
       "      <td>0.6770</td>\n",
       "      <td>0.2565</td>\n",
       "      <td>0.1415</td>\n",
       "      <td>0.2100</td>\n",
       "    </tr>\n",
       "    <tr>\n",
       "      <th>3</th>\n",
       "      <td>M</td>\n",
       "      <td>0.440</td>\n",
       "      <td>0.365</td>\n",
       "      <td>0.125</td>\n",
       "      <td>0.5160</td>\n",
       "      <td>0.2155</td>\n",
       "      <td>0.1140</td>\n",
       "      <td>0.1550</td>\n",
       "    </tr>\n",
       "    <tr>\n",
       "      <th>4</th>\n",
       "      <td>I</td>\n",
       "      <td>0.330</td>\n",
       "      <td>0.255</td>\n",
       "      <td>0.080</td>\n",
       "      <td>0.2050</td>\n",
       "      <td>0.0895</td>\n",
       "      <td>0.0395</td>\n",
       "      <td>0.0550</td>\n",
       "    </tr>\n",
       "    <tr>\n",
       "      <th>...</th>\n",
       "      <td>...</td>\n",
       "      <td>...</td>\n",
       "      <td>...</td>\n",
       "      <td>...</td>\n",
       "      <td>...</td>\n",
       "      <td>...</td>\n",
       "      <td>...</td>\n",
       "      <td>...</td>\n",
       "    </tr>\n",
       "    <tr>\n",
       "      <th>4172</th>\n",
       "      <td>F</td>\n",
       "      <td>0.565</td>\n",
       "      <td>0.450</td>\n",
       "      <td>0.165</td>\n",
       "      <td>0.8870</td>\n",
       "      <td>0.3700</td>\n",
       "      <td>0.2390</td>\n",
       "      <td>0.2490</td>\n",
       "    </tr>\n",
       "    <tr>\n",
       "      <th>4173</th>\n",
       "      <td>M</td>\n",
       "      <td>0.590</td>\n",
       "      <td>0.440</td>\n",
       "      <td>0.135</td>\n",
       "      <td>0.9660</td>\n",
       "      <td>0.4390</td>\n",
       "      <td>0.2145</td>\n",
       "      <td>0.2605</td>\n",
       "    </tr>\n",
       "    <tr>\n",
       "      <th>4174</th>\n",
       "      <td>M</td>\n",
       "      <td>0.600</td>\n",
       "      <td>0.475</td>\n",
       "      <td>0.205</td>\n",
       "      <td>1.1760</td>\n",
       "      <td>0.5255</td>\n",
       "      <td>0.2875</td>\n",
       "      <td>0.3080</td>\n",
       "    </tr>\n",
       "    <tr>\n",
       "      <th>4175</th>\n",
       "      <td>F</td>\n",
       "      <td>0.625</td>\n",
       "      <td>0.485</td>\n",
       "      <td>0.150</td>\n",
       "      <td>1.0945</td>\n",
       "      <td>0.5310</td>\n",
       "      <td>0.2610</td>\n",
       "      <td>0.2960</td>\n",
       "    </tr>\n",
       "    <tr>\n",
       "      <th>4176</th>\n",
       "      <td>M</td>\n",
       "      <td>0.710</td>\n",
       "      <td>0.555</td>\n",
       "      <td>0.195</td>\n",
       "      <td>1.9485</td>\n",
       "      <td>0.9455</td>\n",
       "      <td>0.3765</td>\n",
       "      <td>0.4950</td>\n",
       "    </tr>\n",
       "  </tbody>\n",
       "</table>\n",
       "<p>4177 rows × 8 columns</p>\n",
       "</div>"
      ],
      "text/plain": [
       "     Sex  Length  Diameter  Height  Whole_weight  Shucked_weight  \\\n",
       "0      M   0.455     0.365   0.095        0.5140          0.2245   \n",
       "1      M   0.350     0.265   0.090        0.2255          0.0995   \n",
       "2      F   0.530     0.420   0.135        0.6770          0.2565   \n",
       "3      M   0.440     0.365   0.125        0.5160          0.2155   \n",
       "4      I   0.330     0.255   0.080        0.2050          0.0895   \n",
       "...   ..     ...       ...     ...           ...             ...   \n",
       "4172   F   0.565     0.450   0.165        0.8870          0.3700   \n",
       "4173   M   0.590     0.440   0.135        0.9660          0.4390   \n",
       "4174   M   0.600     0.475   0.205        1.1760          0.5255   \n",
       "4175   F   0.625     0.485   0.150        1.0945          0.5310   \n",
       "4176   M   0.710     0.555   0.195        1.9485          0.9455   \n",
       "\n",
       "      Viscera_weight  Shell_weight  \n",
       "0             0.1010        0.1500  \n",
       "1             0.0485        0.0700  \n",
       "2             0.1415        0.2100  \n",
       "3             0.1140        0.1550  \n",
       "4             0.0395        0.0550  \n",
       "...              ...           ...  \n",
       "4172          0.2390        0.2490  \n",
       "4173          0.2145        0.2605  \n",
       "4174          0.2875        0.3080  \n",
       "4175          0.2610        0.2960  \n",
       "4176          0.3765        0.4950  \n",
       "\n",
       "[4177 rows x 8 columns]"
      ]
     },
     "execution_count": 13,
     "metadata": {},
     "output_type": "execute_result"
    }
   ],
   "source": [
    "abalone_df.loc[:, 'Sex':'Shell_weight']"
   ]
  }
 ],
 "metadata": {
  "kaggle": {
   "accelerator": "none",
   "dataSources": [],
   "dockerImageVersionId": 30918,
   "isGpuEnabled": false,
   "isInternetEnabled": true,
   "language": "python",
   "sourceType": "notebook"
  },
  "kernelspec": {
   "display_name": "Python 3",
   "language": "python",
   "name": "python3"
  },
  "language_info": {
   "codemirror_mode": {
    "name": "ipython",
    "version": 3
   },
   "file_extension": ".py",
   "mimetype": "text/x-python",
   "name": "python",
   "nbconvert_exporter": "python",
   "pygments_lexer": "ipython3",
   "version": "3.10.12"
  },
  "papermill": {
   "default_parameters": {},
   "duration": 16.578418,
   "end_time": "2025-02-27T11:35:40.213047",
   "environment_variables": {},
   "exception": null,
   "input_path": "__notebook__.ipynb",
   "output_path": "__notebook__.ipynb",
   "parameters": {},
   "start_time": "2025-02-27T11:35:23.634629",
   "version": "2.6.0"
  }
 },
 "nbformat": 4,
 "nbformat_minor": 5
}
